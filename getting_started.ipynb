{
 "cells": [
  {
   "cell_type": "markdown",
   "metadata": {},
   "source": [
    "## Note\n",
    "In this notebook we will load a trained GMF++ model, and go over the evaluation procedure. The GMF++ is based on simple model introduced by [He et al](https://arxiv.org/abs/1708.05031). You can try to adapt other models such as MLP and NMF. The [original implementation](https://github.com/hexiangnan/neural_collaborative_filtering/tree/4aab159e81c44b062c091bdaed0ab54ac632371f) as well as other implemntations are available for single market settings.     "
   ]
  },
  {
   "cell_type": "code",
   "execution_count": 1,
   "metadata": {},
   "outputs": [],
   "source": [
    "import argparse\n",
    "import pandas as pd\n",
    "import torch\n",
    "from torch.autograd import Variable\n",
    "from torch.utils.data import DataLoader, Dataset, ConcatDataset\n",
    "\n",
    "import os\n",
    "from os import path\n",
    "import json\n",
    "import resource\n",
    "import sys\n",
    "import pickle\n",
    "from zipfile import ZipFile\n",
    "\n",
    "sys.path.insert(1, 'src')\n",
    "from model import Model\n",
    "from utils import *\n",
    "from data import *\n",
    "from train_baseline import *"
   ]
  },
  {
   "cell_type": "code",
   "execution_count": 8,
   "metadata": {},
   "outputs": [
    {
     "name": "stdout",
     "output_type": "stream",
     "text": [
      "Device: cpu\n"
     ]
    }
   ],
   "source": [
    "parser = create_arg_parser()\n",
    "\n",
    "tgt_market = 't1' \n",
    "src_markets = 'none' # 'none' | 's1' | 's1_s2_s3'\n",
    "exp_names = 'toytest'\n",
    "tgt_market_valid = f'DATA/{tgt_market}/valid_run.tsv'\n",
    "tgt_market_test = f'DATA/{tgt_market}/test_run.tsv'\n",
    "\n",
    "\n",
    "args = parser.parse_args(f'--tgt_market {tgt_market} --src_markets {src_markets} \\\n",
    "            --tgt_market_valid {tgt_market_valid} --tgt_market_test {tgt_market_test} --cuda'.split()) #\n",
    "\n",
    "if torch.cuda.is_available() and args.cuda:\n",
    "    torch.cuda.set_device(0)\n",
    "args.device = torch.device('cuda' if torch.cuda.is_available() and args.cuda else 'cpu')\n",
    "print(\"Device:\", args.device)"
   ]
  },
  {
   "cell_type": "code",
   "execution_count": 9,
   "metadata": {},
   "outputs": [
    {
     "name": "stdout",
     "output_type": "stream",
     "text": [
      "Model is GMF++!\n",
      "GMF(\n",
      "  (embedding_user): Embedding(2698, 8)\n",
      "  (embedding_item): Embedding(1386, 8)\n",
      "  (affine_output): Linear(in_features=8, out_features=1, bias=True)\n",
      "  (logistic): Sigmoid()\n",
      ")\n",
      "Pretrained weights from checkpoints/t1_none_toytest.model are loaded!\n"
     ]
    }
   ],
   "source": [
    "# load pretrained model\n",
    "model_dir = f'checkpoints/{tgt_market}_{src_markets}_{exp_names}.model'\n",
    "id_bank_dir = f'checkpoints/{tgt_market}_{src_markets}_{exp_names}.pickle'\n",
    "\n",
    "with open(id_bank_dir, 'rb') as centralid_file:\n",
    "    my_id_bank = pickle.load(centralid_file)\n",
    "\n",
    "mymodel = Model(args, my_id_bank)\n",
    "mymodel.load(model_dir)"
   ]
  },
  {
   "cell_type": "code",
   "execution_count": 35,
   "metadata": {},
   "outputs": [
    {
     "name": "stdout",
     "output_type": "stream",
     "text": [
      "loaded target test and validation data!\n"
     ]
    }
   ],
   "source": [
    "############\n",
    "## Target Market Evaluation data\n",
    "############\n",
    "tgt_task_generator = TaskGenerator(None, my_id_bank)\n",
    "args.batch_size = 5000\n",
    "tgt_valid_dataloader = tgt_task_generator.instance_a_market_valid_dataloader(args.tgt_market_valid, args.batch_size)\n",
    "tgt_test_dataloader = tgt_task_generator.instance_a_market_valid_dataloader(args.tgt_market_test, args.batch_size)\n",
    "print('loaded target test and validation data!')"
   ]
  },
  {
   "cell_type": "markdown",
   "metadata": {},
   "source": [
    "Here, we run the prediction step on both validation and test sets. \n",
    "\n",
    "Then, we write the output files in the format required for the submission and create the Zip file for submission.\n",
    "\n",
    "Finally, we run the `validate_subsmission.py` to make sure that the structure of the Zip file is okay. In addition, we evaluate the model on the `valid` set.\n",
    "\n",
    "**Note**: You need to run the script twice for both target markets (i.e., `t1` and `t2`). So, the code writes the prediction files in both `sample_run/t1/` and `sample_run/t2/` directories. Otherwise, your submission file will not pass the file structure test of `validate_submission.py`."
   ]
  },
  {
   "cell_type": "code",
   "execution_count": 36,
   "metadata": {},
   "outputs": [],
   "source": [
    "run_dir = './baseline_outputs/sample_run/'\n",
    "\n",
    "def write_run_file(run_mf, file_address):\n",
    "    with open(file_address, 'w') as fo:\n",
    "        fo.write('userId\\titemId\\tscore\\n')\n",
    "        for u_id in run_mf:\n",
    "            for p_id in run_mf[u_id]:\n",
    "                fo.write('{}\\t{}\\t{}\\n'.format(u_id, p_id, run_mf[u_id][p_id]))\n",
    "\n",
    "valid_run_mf = mymodel.predict(tgt_valid_dataloader)\n",
    "test_run_mf = mymodel.predict(tgt_test_dataloader)"
   ]
  },
  {
   "cell_type": "code",
   "execution_count": 37,
   "metadata": {},
   "outputs": [],
   "source": [
    "write_run_file(valid_run_mf, path.join(run_dir, tgt_market, 'valid_pred.tsv'))\n",
    "write_run_file(test_run_mf, path.join(run_dir, tgt_market, 'test_pred.tsv'))\n",
    "\n",
    "# get full evaluation on validation set using pytrec_eval.\n",
    "tgt_valid_qrel = read_qrel_file('DATA/{}/valid_qrel.tsv'.format(tgt_market))\n",
    "task_ov, task_ind = get_evaluations_final(valid_run_mf, tgt_valid_qrel)"
   ]
  },
  {
   "cell_type": "code",
   "execution_count": 7,
   "metadata": {},
   "outputs": [
    {
     "name": "stdout",
     "output_type": "stream",
     "text": [
      "updating: t2/ (stored 0%)\n",
      "updating: t2/test_pred.tsv (deflated 68%)\n",
      "updating: t2/valid_pred.tsv (deflated 68%)\n",
      "updating: t1/ (stored 0%)\n",
      "updating: t1/valid_pred.tsv (deflated 67%)\n",
      "updating: t1/test_pred.tsv (deflated 67%)\n",
      "  adding: .DS_Store (deflated 95%)\n",
      "  adding: t2/.DS_Store (deflated 97%)\n",
      "  adding: t1/.DS_Store (deflated 97%)\n",
      "*** Validating the submission Zip file ***\n",
      "Extracting the submission zip file\n",
      "Validating the file structure of the submission\n",
      "File structure validation successfully passed\n",
      "Evaluating the validation set\n",
      "===================== Market : t1=====================\n",
      "======= Set val : score(ndcg10_val)=0.319351407707 =======\n",
      "======= Set val : score(r10_val)=0.497589914720 =======\n",
      "===================== Market : t2=====================\n",
      "======= Set val : score(ndcg10_val)=0.320296306874 =======\n",
      "======= Set val : score(r10_val)=0.485041955491 =======\n",
      "===================== Market : t1t2=====================\n",
      "======= Set val : score(ndcg10_val)=0.319984729291 =======\n",
      "======= Set val : score(r10_val)=0.489179606309 =======\n"
     ]
    }
   ],
   "source": [
    "# Zip the run files into a single archive to prepare for submission    \n",
    "! cd {run_dir} && zip -r ../sample_run.zip ./\n",
    "\n",
    "print(\"*** Validating the submission Zip file ***\")\n",
    "# Run the validate_submission.py script to check if the file format is okay and get the performance on validation set.\n",
    "! python validate_submission.py ./baseline_outputs/sample_run.zip"
   ]
  },
  {
   "cell_type": "markdown",
   "metadata": {},
   "source": [
    "# Baselines\n",
    "Here we create the Zip file and validate the submission for all the baseline runs."
   ]
  },
  {
   "cell_type": "code",
   "execution_count": 10,
   "metadata": {},
   "outputs": [
    {
     "name": "stdout",
     "output_type": "stream",
     "text": [
      "  adding: .DS_Store (deflated 95%)\n",
      "  adding: t2/ (stored 0%)\n",
      "  adding: t2/.DS_Store (deflated 97%)\n",
      "  adding: t2/test_pred.tsv (deflated 68%)\n",
      "  adding: t2/valid_pred.tsv (deflated 68%)\n",
      "  adding: t1/ (stored 0%)\n",
      "  adding: t1/.DS_Store (deflated 97%)\n",
      "  adding: t1/test_pred.tsv (deflated 67%)\n",
      "  adding: t1/valid_pred.tsv (deflated 67%)\n",
      "*** Validating the submission Zip file ***\n",
      "Extracting the submission zip file\n",
      "Validating the file structure of the submission\n",
      "File structure validation successfully passed\n",
      "Evaluating the validation set\n",
      "===================== Market : t1=====================\n",
      "======= Set val : score(ndcg10_val)=0.319351407707 =======\n",
      "======= Set val : score(r10_val)=0.497589914720 =======\n",
      "===================== Market : t2=====================\n",
      "======= Set val : score(ndcg10_val)=0.320296306874 =======\n",
      "======= Set val : score(r10_val)=0.485041955491 =======\n",
      "===================== Market : t1t2=====================\n",
      "======= Set val : score(ndcg10_val)=0.319984729291 =======\n",
      "======= Set val : score(r10_val)=0.489179606309 =======\n"
     ]
    }
   ],
   "source": [
    "# no_src baseline\n",
    "baseline_dir = './baseline_outputs/no_src_run/'\n",
    "! cd {baseline_dir} && zip -r ../no_src.zip ./\n",
    "\n",
    "print(\"*** Validating the submission Zip file ***\")\n",
    "# Run the validate_submission.py script to check if the file format is okay and get the performance on validation set.\n",
    "! python validate_submission.py ./baseline_outputs/no_src.zip"
   ]
  },
  {
   "cell_type": "code",
   "execution_count": 11,
   "metadata": {},
   "outputs": [
    {
     "name": "stdout",
     "output_type": "stream",
     "text": [
      "  adding: .DS_Store (deflated 96%)\n",
      "  adding: t2/ (stored 0%)\n",
      "  adding: t2/.DS_Store (deflated 97%)\n",
      "  adding: t2/test_pred.tsv (deflated 68%)\n",
      "  adding: t2/valid_pred.tsv (deflated 68%)\n",
      "  adding: t1/ (stored 0%)\n",
      "  adding: t1/.DS_Store (deflated 97%)\n",
      "  adding: t1/test_pred.tsv (deflated 71%)\n",
      "  adding: t1/valid_pred.tsv (deflated 71%)\n",
      "*** Validating the submission Zip file ***\n",
      "Extracting the submission zip file\n",
      "Validating the file structure of the submission\n",
      "File structure validation successfully passed\n",
      "Evaluating the validation set\n",
      "===================== Market : t1=====================\n",
      "======= Set val : score(ndcg10_val)=0.291923073785 =======\n",
      "======= Set val : score(r10_val)=0.492769744160 =======\n",
      "===================== Market : t2=====================\n",
      "======= Set val : score(ndcg10_val)=0.296293997024 =======\n",
      "======= Set val : score(r10_val)=0.466982852973 =======\n",
      "===================== Market : t1t2=====================\n",
      "======= Set val : score(ndcg10_val)=0.294852698580 =======\n",
      "======= Set val : score(r10_val)=0.475486000734 =======\n"
     ]
    }
   ],
   "source": [
    "# s1 baseline\n",
    "baseline_dir = './baseline_outputs/s1_run/'\n",
    "! cd {baseline_dir} && zip -r ../s1.zip ./\n",
    "\n",
    "print(\"*** Validating the submission Zip file ***\")\n",
    "# Run the validate_submission.py script to check if the file format is okay and get the performance on validation set.\n",
    "! python validate_submission.py ./baseline_outputs/s1.zip"
   ]
  },
  {
   "cell_type": "code",
   "execution_count": 12,
   "metadata": {},
   "outputs": [
    {
     "name": "stdout",
     "output_type": "stream",
     "text": [
      "  adding: .DS_Store (deflated 96%)\n",
      "  adding: t2/ (stored 0%)\n",
      "  adding: t2/.DS_Store (deflated 97%)\n",
      "  adding: t2/test_pred.tsv (deflated 68%)\n",
      "  adding: t2/valid_pred.tsv (deflated 68%)\n",
      "  adding: t1/ (stored 0%)\n",
      "  adding: t1/.DS_Store (deflated 97%)\n",
      "  adding: t1/test_pred.tsv (deflated 69%)\n",
      "  adding: t1/valid_pred.tsv (deflated 69%)\n",
      "*** Validating the submission Zip file ***\n",
      "Extracting the submission zip file\n",
      "Validating the file structure of the submission\n",
      "File structure validation successfully passed\n",
      "Evaluating the validation set\n",
      "===================== Market : t1=====================\n",
      "======= Set val : score(ndcg10_val)=0.296685062055 =======\n",
      "======= Set val : score(r10_val)=0.508342602892 =======\n",
      "===================== Market : t2=====================\n",
      "======= Set val : score(ndcg10_val)=0.125686247681 =======\n",
      "======= Set val : score(r10_val)=0.147599288678 =======\n",
      "===================== Market : t1t2=====================\n",
      "======= Set val : score(ndcg10_val)=0.230883282893 =======\n",
      "======= Set val : score(r10_val)=0.369525547445 =======\n"
     ]
    }
   ],
   "source": [
    "# no_src baseline\n",
    "baseline_dir = './baseline_outputs/s1_s2_s3_run/'\n",
    "! cd {baseline_dir} && zip -r ../s1_s2_s3.zip ./\n",
    "\n",
    "print(\"*** Validating the submission Zip file ***\")\n",
    "# Run the validate_submission.py script to check if the file format is okay and get the performance on validation set.\n",
    "! python validate_submission.py ./baseline_outputs/s1_s2_s3.zip"
   ]
  }
 ],
 "metadata": {
  "kernelspec": {
   "display_name": "Python 3",
   "language": "python",
   "name": "python3"
  },
  "language_info": {
   "codemirror_mode": {
    "name": "ipython",
    "version": 3
   },
   "file_extension": ".py",
   "mimetype": "text/x-python",
   "name": "python",
   "nbconvert_exporter": "python",
   "pygments_lexer": "ipython3",
   "version": "3.7.4"
  }
 },
 "nbformat": 4,
 "nbformat_minor": 5
}
